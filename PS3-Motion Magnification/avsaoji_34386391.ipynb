{
  "nbformat": 4,
  "nbformat_minor": 0,
  "metadata": {
    "colab": {
      "name": "avsaoji_34386391_ps3.ipynb",
      "provenance": [],
      "collapsed_sections": []
    },
    "kernelspec": {
      "name": "python3",
      "display_name": "Python 3"
    }
  },
  "cells": [
    {
      "cell_type": "markdown",
      "metadata": {
        "id": "Uqh1kK1LeS2U",
        "colab_type": "text"
      },
      "source": [
        "#EECS 504 PS3: Motion Magnification and Texture Synthesis\n",
        "\n",
        "Please provide the following information \n",
        "(e.g. Andrew Owens, ahowens):\n",
        "\n",
        "Aaditi Saoji, avsaoji\n",
        "\n",
        "\n"
      ]
    },
    {
      "cell_type": "markdown",
      "metadata": {
        "id": "Wug5j9jHeeAx",
        "colab_type": "text"
      },
      "source": [
        "# Starting\n",
        "\n",
        "Run the following code to import the modules you'll need. After your finish the assignment, remember to run all cells and save the notebook to your local machine as a .ipynb file for Canvas submission."
      ]
    },
    {
      "cell_type": "code",
      "metadata": {
        "id": "loxyYKR1ZBsG",
        "colab_type": "code",
        "colab": {}
      },
      "source": [
        "%matplotlib inline\n",
        "import numpy as np\n",
        "from numpy.fft import fft2, ifft2, fftshift, ifftshift\n",
        "from numpy import angle, real\n",
        "from numpy import exp, abs, pi, sqrt\n",
        "import matplotlib.pyplot as plt\n",
        "import cv2\n",
        "import math\n",
        "\n",
        "import random\n",
        "import sys\n",
        "from scipy import ndimage\n",
        "\n",
        "# cv2.imshow does not work in Colab, we use cv2_imshow instead\n",
        "from google.colab.patches import cv2_imshow"
      ],
      "execution_count": 0,
      "outputs": []
    },
    {
      "cell_type": "code",
      "metadata": {
        "id": "-O7p5RhASRaB",
        "colab_type": "code",
        "colab": {}
      },
      "source": [
        "%%capture\n",
        "# download some images\n",
        "# should take a second to run\n",
        "\n",
        "# for motion magnification problem\n",
        "! wget -O bill.avi \"https://drive.google.com/uc?export=download&id=1QR2dCShn-fYYEvcAQ8J4mnIo_ISqrjc7\"\n",
        "\n",
        "# for texture synthesis problem\n",
        "! wget -O texture.jpg \"https://drive.google.com/uc?export=download&id=11IlTZNLwfYsXQt2L1GbKdNqcj6JNkQik\"\n",
        "! wget -O rings.jpg \"https://drive.google.com/uc?export=download&id=1fYtmQe_a40BWg1OU178SFbcU4KRZuphn\"\n",
        "! wget -O jigsaw.jpg \"https://images.unsplash.com/photo-1546484396-fb3fc6f95f98?ixlib=rb-1.2.1&ixid=eyJhcHBfaWQiOjEyMDd9&w=1000&q=80\""
      ],
      "execution_count": 0,
      "outputs": []
    },
    {
      "cell_type": "markdown",
      "metadata": {
        "id": "RpV5DTNmaBDk",
        "colab_type": "text"
      },
      "source": [
        "## **Problem 3.1 (a)**"
      ]
    },
    {
      "cell_type": "code",
      "metadata": {
        "id": "ijhkAqcdZM3v",
        "colab_type": "code",
        "colab": {}
      },
      "source": [
        "def imshow(im, cmap='gray'):\n",
        "    # clip image from 0-1\n",
        "    im = np.clip(im, 0, 1)\n",
        "    plt.imshow(im, cmap=cmap)"
      ],
      "execution_count": 0,
      "outputs": []
    },
    {
      "cell_type": "code",
      "metadata": {
        "id": "Mo2f0-Y6ZQyf",
        "colab_type": "code",
        "colab": {}
      },
      "source": [
        "# 9x9 images\n",
        "im_size = 9\n",
        "\n",
        "# we would like to magnify the change between im1 and im2 by 4x\n",
        "magnification_factor = 4;\n",
        "\n",
        "# horizontal movement from (0, 0) to (0, 1)\n",
        "im1 = np.zeros([im_size, im_size])\n",
        "im2 = np.zeros([im_size, im_size])\n",
        "im1[0,0] = 1\n",
        "im2[0,1] = 1\n",
        "\n",
        "ff1 = fftshift(fft2(im1))\n",
        "ff2 = fftshift(fft2(im2))"
      ],
      "execution_count": 0,
      "outputs": []
    },
    {
      "cell_type": "markdown",
      "metadata": {
        "id": "USjr94uIXJ1Y",
        "colab_type": "text"
      },
      "source": [
        "### This is a quick tutorial for those who are not familiar with complex numbers in python."
      ]
    },
    {
      "cell_type": "code",
      "metadata": {
        "id": "KOZCXoSWZV2D",
        "colab_type": "code",
        "outputId": "c4dc313c-5d02-402f-ba8c-922b315a1c1a",
        "colab": {
          "base_uri": "https://localhost:8080/",
          "height": 105
        }
      },
      "source": [
        "# create a complex number\n",
        "x = 1 + 1j\n",
        "print(\"x =\", x)\n",
        "print(\"x.real\", x.real, \"x.imag\", x.imag)\n",
        "\n",
        "# magnitude and phase of complex number\n",
        "mag = abs(x)\n",
        "phase = angle(x)\n",
        "\n",
        "print(\"Magnitude\", mag)\n",
        "print(\"Phase\", phase)\n",
        "\n",
        "# Euler's formula\n",
        "y = mag * exp(phase * 1j)\n",
        "print(\"y =\", y)"
      ],
      "execution_count": 5,
      "outputs": [
        {
          "output_type": "stream",
          "text": [
            "x = (1+1j)\n",
            "x.real 1.0 x.imag 1.0\n",
            "Magnitude 1.4142135623730951\n",
            "Phase 0.7853981633974483\n",
            "y = (1.0000000000000002+1j)\n"
          ],
          "name": "stdout"
        }
      ]
    },
    {
      "cell_type": "code",
      "metadata": {
        "id": "uWusq5kFZSEw",
        "colab_type": "code",
        "colab": {}
      },
      "source": [
        "def magnify_change(im1, im2, magnification_factor):\n",
        "    \n",
        "    # find phase shift in frequency domain\n",
        "    im1_dft = fft2(im1)\n",
        "    im2_dft = fft2(im2)\n",
        "    phase_shift = angle(im2_dft) - angle(im1_dft)\n",
        "    \n",
        "    # magnify the phase change in frequency domain \n",
        "    magnified_dft = angle(im1_dft) + (phase_shift * magnification_factor)\n",
        "    \n",
        "    # what does the magnified phase change cause in image space?\n",
        "    magnified_dft = abs(im1_dft) * exp(magnified_dft * 1j)\n",
        "    magnified = ifft2(magnified_dft).real\n",
        "    \n",
        "    return magnified"
      ],
      "execution_count": 0,
      "outputs": []
    },
    {
      "cell_type": "code",
      "metadata": {
        "id": "YulC7V6nZW2u",
        "colab_type": "code",
        "outputId": "1ea39b46-e6e9-4921-e729-ac4423d4e39b",
        "colab": {
          "base_uri": "https://localhost:8080/",
          "height": 261
        }
      },
      "source": [
        "# magnify position change\n",
        "magnified = magnify_change(im1, im2, magnification_factor);\n",
        "\n",
        "plt.figure(figsize=(12,36))\n",
        "plt.subplot(131)\n",
        "imshow(im1); plt.title('im1');\n",
        "\n",
        "plt.subplot(132)\n",
        "imshow(im2); plt.title('im2');\n",
        "\n",
        "plt.subplot(133)\n",
        "imshow(magnified); plt.title('magnified');"
      ],
      "execution_count": 7,
      "outputs": [
        {
          "output_type": "display_data",
          "data": {
            "image/png": "[encoded data removed]",
            "text/plain": [
              "<Figure size 864x2592 with 3 Axes>"
            ]
          },
          "metadata": {
            "tags": []
          }
        }
      ]
    },
    {
      "cell_type": "markdown",
      "metadata": {
        "id": "nQAF4he7Za_8",
        "colab_type": "text"
      },
      "source": [
        "## **Problem 3.1 (b)**\n"
      ]
    },
    {
      "cell_type": "code",
      "metadata": {
        "id": "1LPwI_TsZfDR",
        "colab_type": "code",
        "outputId": "be67b333-3389-4d1f-aca3-33e81b5580f1",
        "colab": {
          "base_uri": "https://localhost:8080/",
          "height": 261
        }
      },
      "source": [
        "# 9x9 images\n",
        "im_size = 9\n",
        "\n",
        "# we would like to magnify the change between im1 and im2 by 4x\n",
        "magnification_factor = 4\n",
        "\n",
        "# horizontal movement from (0, 0) to (0, 1)\n",
        "# additional vertical movement from (8, 8) to (7, 8)\n",
        "im1 = np.zeros([im_size, im_size])\n",
        "im2 = np.zeros([im_size, im_size])\n",
        "im1[0,0] = 1\n",
        "im2[0,1] = 1\n",
        "im1[8,8] = 1\n",
        "im2[7,8] = 1\n",
        "\n",
        "# magnify position change\n",
        "magnified = magnify_change(im1, im2, magnification_factor)\n",
        "\n",
        "\n",
        "plt.figure(figsize=(12,36))\n",
        "plt.subplot(131)\n",
        "imshow(im1); plt.title('im1');\n",
        "\n",
        "plt.subplot(132)\n",
        "imshow(im2); plt.title('im2');\n",
        "\n",
        "plt.subplot(133)\n",
        "imshow(magnified); plt.title('magnified');\n"
      ],
      "execution_count": 8,
      "outputs": [
        {
          "output_type": "display_data",
          "data": {
            "image/png": "[encoded data removed]",
            "text/plain": [
              "<Figure size 864x2592 with 3 Axes>"
            ]
          },
          "metadata": {
            "tags": []
          }
        }
      ]
    },
    {
      "cell_type": "markdown",
      "metadata": {
        "id": "L1aBM43kgeq6",
        "colab_type": "text"
      },
      "source": [
        "Why the two offsets were not properly magnified?\n",
        "Ans: In the second image, the white block has moved horizontally as well as vertically in comparison to first image. This is a non-linear shift in the two planes. A gaussian window avoids the effect of movement of block in one dimension (horizontal) on the movement in other dimension (vertical)."
      ]
    },
    {
      "cell_type": "markdown",
      "metadata": {
        "colab_type": "text",
        "id": "XyIt4H8MZnno"
      },
      "source": [
        "## **Problem 3.1 (c)**\n"
      ]
    },
    {
      "cell_type": "code",
      "metadata": {
        "id": "NomQMElTZYiq",
        "colab_type": "code",
        "outputId": "32c9674a-b9f3-4f46-881b-0fb8c220495e",
        "colab": {
          "base_uri": "https://localhost:8080/",
          "height": 279
        }
      },
      "source": [
        "# 9x9 images\n",
        "im_size = 9\n",
        "\n",
        "# we would like to magnify the change between im1 and im2 by 4x\n",
        "magnification_factor = 4\n",
        "\n",
        "# width of our Gaussian window\n",
        "sigma = 2\n",
        "\n",
        "# horizontal movement from (0, 0) to (0, 1)\n",
        "# additional vertical movement from (8, 8) to (7, 8)\n",
        "im1 = np.zeros([im_size, im_size])\n",
        "im2 = np.zeros([im_size, im_size])\n",
        "im1[0,0] = 1\n",
        "im2[0,1] = 1\n",
        "im1[8,8] = 1\n",
        "im2[7,8] = 1\n",
        "\n",
        "# we will magnify windows of the image and aggregate the results\n",
        "magnified = np.zeros([im_size, im_size])\n",
        "\n",
        "# meshgrid for computing Gaussian window\n",
        "X, Y = np.meshgrid(np.arange(im_size), np.arange(im_size))\n",
        "\n",
        "for y in range(0, im_size, 2*sigma):\n",
        "    for x in range(0, im_size, 2*sigma):\n",
        "        gaussian_mask = (1/(2*np.pi*sigma*sigma)) * np.exp((-((X-x) * (X-x)) - ((Y-y) * (Y-y)))/(2*sigma*sigma))\n",
        "        im1_mask = np.multiply(im1, gaussian_mask)\n",
        "        im2_mask = np.multiply(im2, gaussian_mask)\n",
        "        window_magnified = magnify_change(im1_mask, im2_mask,\n",
        "                                          magnification_factor)\n",
        "        \n",
        "        magnified = magnified + window_magnified\n",
        "        \n",
        "plt.figure(figsize=(12,36))\n",
        "plt.subplot(131)\n",
        "imshow(im1); plt.title('im1');\n",
        "\n",
        "plt.subplot(132)\n",
        "imshow(im2); plt.title('im2');\n",
        "\n",
        "plt.subplot(133)\n",
        "imshow(magnified); plt.title('magnified')"
      ],
      "execution_count": 9,
      "outputs": [
        {
          "output_type": "execute_result",
          "data": {
            "text/plain": [
              "Text(0.5, 1.0, 'magnified')"
            ]
          },
          "metadata": {
            "tags": []
          },
          "execution_count": 9
        },
        {
          "output_type": "display_data",
          "data": {
            "image/png": "[encoded data removed]",
            "text/plain": [
              "<Figure size 864x2592 with 3 Axes>"
            ]
          },
          "metadata": {
            "tags": []
          }
        }
      ]
    },
    {
      "cell_type": "markdown",
      "metadata": {
        "id": "9Kzn223xZsN3",
        "colab_type": "text"
      },
      "source": [
        "## **Problem 3.1 (d) - Motion Magnification**\n"
      ]
    },
    {
      "cell_type": "code",
      "metadata": {
        "id": "0l47cx31ZvpO",
        "colab_type": "code",
        "outputId": "ca2a26bd-6b1c-44fb-d65c-011748a17131",
        "colab": {
          "base_uri": "https://localhost:8080/",
          "height": 34
        }
      },
      "source": [
        "import numpy as np\n",
        "import cv2\n",
        "\n",
        "cap = cv2.VideoCapture('bill.avi')\n",
        "\n",
        "# list of video frames\n",
        "frames = []\n",
        "\n",
        "while(cap.isOpened()):\n",
        "    # read frame from the video\n",
        "    ret, frame = cap.read()\n",
        "    \n",
        "    if ret is False:\n",
        "        break\n",
        "\n",
        "    frame = cv2.resize(frame, (200, 200), interpolation=cv2.INTER_CUBIC)\n",
        "    frames.append(frame)\n",
        "\n",
        "cap.release()\n",
        "\n",
        "# scale frame to 0-1\n",
        "frames = np.array(frames) / 255.\n",
        "print(\"frames size:\", frames.shape, \"# (nb_frames, height, width, channel)\")\n",
        "\n",
        "# get height, width\n",
        "num_frames = frames.shape[0]\n",
        "height = frames.shape[1]\n",
        "width = frames.shape[2]"
      ],
      "execution_count": 10,
      "outputs": [
        {
          "output_type": "stream",
          "text": [
            "frames size: (60, 200, 200, 3) # (nb_frames, height, width, channel)\n"
          ],
          "name": "stdout"
        }
      ]
    },
    {
      "cell_type": "code",
      "metadata": {
        "id": "RbB0d5fDZ1DQ",
        "colab_type": "code",
        "outputId": "a8be1b7a-3e6a-48ed-f6dd-3e6968a2ed13",
        "colab": {
          "base_uri": "https://localhost:8080/",
          "height": 298
        }
      },
      "source": [
        "# 10x magnification of motion\n",
        "magnification_factor = 10\n",
        "\n",
        "# width of Gaussian window\n",
        "sigma = 26\n",
        "\n",
        "# alpha for moving average\n",
        "alpha = 0.5\n",
        "\n",
        "# we will magnify windows of the video and aggregate the results\n",
        "magnified = np.zeros_like(frames)\n",
        "\n",
        "# meshgrid for computing Gaussian window\n",
        "X, Y = np.meshgrid(np.arange(width), np.arange(height))\n",
        "\n",
        "# iterate over windows of the frames\n",
        "x_range = list(range(0, width, 2*sigma))\n",
        "y_range = list(range(0, height, 2*sigma))\n",
        "num_windows = len(x_range) * len(y_range)\n",
        "window_index = 1\n",
        "\n",
        "for y in y_range:\n",
        "    for x in x_range:\n",
        "        for channel_index in range(3): # RGB channels\n",
        "            for frame_index in range(num_frames):\n",
        "                \n",
        "                # create windowed frames\n",
        "                gaussian_mask = np.exp((-((X-x) * (X-x)) - ((Y-y) * (Y-y)))/(2*sigma*sigma))\n",
        "                windowed_frames = gaussian_mask * frames[frame_index,:,:,channel_index]\n",
        "            \n",
        "                # initialize moving average of phase for current window/channel\n",
        "                if frame_index == 0:\n",
        "                    window_average_phase = angle(fft2(windowed_frames))\n",
        "                \n",
        "                window_dft = fft2(windowed_frames)\n",
        "                \n",
        "                # compute phase shift and constrain to [-pi, pi] since\n",
        "                # angle space wraps around\n",
        "                window_phase_shift = angle(window_dft) - window_average_phase\n",
        "                window_phase_shift[window_phase_shift > pi] = window_phase_shift[window_phase_shift > pi] - 2 * pi\n",
        "                window_phase_shift[window_phase_shift < -pi] = window_phase_shift[window_phase_shift < -pi] + 2 * pi\n",
        "                \n",
        "                # magnify phase shift\n",
        "                window_magnified_phase = window_average_phase + (window_phase_shift * magnification_factor)\n",
        "                 \n",
        "                # go back to image space\n",
        "                window_magnified_dft = abs(window_dft) * exp(window_magnified_phase * 1j)\n",
        "                window_magnified = abs(ifft2(window_magnified_dft))\n",
        "                \n",
        "                # update moving average\n",
        "                window_phase_unwrapped = window_average_phase + window_phase_shift\n",
        "                window_average_phase = alpha * window_average_phase + (1 - alpha) * window_phase_unwrapped\n",
        "                \n",
        "                # aggregate\n",
        "                magnified[frame_index,:,:,channel_index] = magnified[frame_index,:,:,channel_index] + window_magnified\n",
        "        \n",
        "        # print progress\n",
        "        print('{}/{}'.format(window_index, num_windows))\n",
        "        window_index += 1"
      ],
      "execution_count": 11,
      "outputs": [
        {
          "output_type": "stream",
          "text": [
            "1/16\n",
            "2/16\n",
            "3/16\n",
            "4/16\n",
            "5/16\n",
            "6/16\n",
            "7/16\n",
            "8/16\n",
            "9/16\n",
            "10/16\n",
            "11/16\n",
            "12/16\n",
            "13/16\n",
            "14/16\n",
            "15/16\n",
            "16/16\n"
          ],
          "name": "stdout"
        }
      ]
    },
    {
      "cell_type": "code",
      "metadata": {
        "id": "T0LAo9tGZ3IL",
        "colab_type": "code",
        "colab": {}
      },
      "source": [
        "outputs = magnified / np.max(magnified)\n",
        "for channel_index in range(3):\n",
        "    original_frame = frames[0,:,:,channel_index]\n",
        "    magnified_frame = outputs[0,:,:,channel_index]\n",
        "    scale = np.std(original_frame[:]) / np.std(magnified_frame[:])\n",
        "    original_mean = np.mean(original_frame[:])\n",
        "    magnified_mean = np.mean(magnified_frame[:])\n",
        "    outputs[:,:,:,channel_index] = magnified_mean + scale * (outputs[:,:,:,channel_index] - magnified_mean)\n",
        "\n",
        "outputs = np.clip(outputs, 0, 1)"
      ],
      "execution_count": 0,
      "outputs": []
    },
    {
      "cell_type": "code",
      "metadata": {
        "id": "eGwdxkFrZ4K9",
        "colab_type": "code",
        "colab": {}
      },
      "source": [
        "# create output video\n",
        "fourcc = cv2.VideoWriter_fourcc('M','J','P','G')\n",
        "# fourcc = cv2.VideoWriter_fourcc(*'XVID')\n",
        "out = cv2.VideoWriter('bill_magnified.avi',fourcc, 30.0, (height, width))\n",
        "\n",
        "for i in range(frames.shape[0]):\n",
        "    # scale the frame back to 0-255\n",
        "    frame = (np.clip(outputs[i], 0, 1) * 255).astype(np.uint8)\n",
        "    \n",
        "    # write frame to output video\n",
        "    out.write(frame)\n",
        "\n",
        "out.release()"
      ],
      "execution_count": 0,
      "outputs": []
    },
    {
      "cell_type": "code",
      "metadata": {
        "id": "8QgaekEWZ6lE",
        "colab_type": "code",
        "outputId": "d28794cc-c81a-4d1a-d297-c4f14ad8e85e",
        "colab": {
          "base_uri": "https://localhost:8080/",
          "height": 34
        }
      },
      "source": [
        "# Only for colab downloading videos\n",
        "try:\n",
        "    from google.colab import files\n",
        "    files.download('bill_magnified.avi')\n",
        "except:\n",
        "    print(\"Only for google colab\")"
      ],
      "execution_count": 14,
      "outputs": [
        {
          "output_type": "stream",
          "text": [
            "Only for google colab\n"
          ],
          "name": "stdout"
        }
      ]
    },
    {
      "cell_type": "markdown",
      "metadata": {
        "id": "NPrGFZZ-aGcx",
        "colab_type": "text"
      },
      "source": [
        "## **Problem 3.2 - Texture Synthesis**\n",
        "\n",
        "Note that the functions provided below are templates. Feel free to add your own helper functions as needed.\n",
        "\n",
        "You can reference the pseudocode provided here:  https://people.eecs.berkeley.edu/~efros/research/NPS/alg.html."
      ]
    },
    {
      "cell_type": "markdown",
      "metadata": {
        "id": "DxMJ7MolbtZa",
        "colab_type": "text"
      },
      "source": [
        "### Find matches function"
      ]
    },
    {
      "cell_type": "code",
      "metadata": {
        "id": "aay0xFu3b0rS",
        "colab_type": "code",
        "colab": {}
      },
      "source": [
        "def find_matches(template, sample, gauss_mask):\n",
        "    ### parameters, as used by Efros and Leung\n",
        "    epsilon = 0.1\n",
        "    #delta = 0.3\n",
        "\n",
        "    [sheight, swidth, channels] = sample.shape\n",
        "    w, x, y = template.shape\n",
        "    w2 = w//2\n",
        "    samp = sheight - w + 1\n",
        "\n",
        "    SSD = np.zeros((samp*samp))\n",
        "\n",
        "    \n",
        "    #### TODO:\n",
        "    # valid_mask is a square mask of width window_size that is 1 where template is filled\n",
        "    v_mask = np.zeros((w,x))\n",
        "    for i in range(w):\n",
        "      for j in range(x):\n",
        "        v_mask[i,j] = np.any(template[i,j,:])\n",
        "\n",
        "    #### TODO:\n",
        "    # vectorized code that calculates SSD(template, sample)*mask for all patches\n",
        "    totWeight = gauss_mask * v_mask.astype(np.float64)\n",
        "    totWeight2 = totWeight.reshape(w*w,1)/np.sum(totWeight)\n",
        "\n",
        "    template = template.reshape(w*w,1,channels)\n",
        "\n",
        "    stride_sample = w,w,samp,samp,channels\n",
        "    a,b,c = sample.strides\n",
        "    strides = a,b,a,b,c\n",
        "\n",
        "    result = np.lib.stride_tricks.as_strided(sample, shape = stride_sample, strides = strides)\n",
        "    col_name = result.reshape(w*w, samp*samp, channels)\n",
        "\n",
        "    euclid_dist = (template - col_name) * (template - col_name)\n",
        "    d = np.sum(euclid_dist,axis=2) * totWeight2\n",
        "    SSD = np.sum(d, axis = 0)\n",
        "\n",
        "    min_error = np.min(SSD)\n",
        "\n",
        "    SSD = SSD.reshape(samp,samp)\n",
        "    i = np.where(SSD <= min_error*(1.1))\n",
        "\n",
        "    return sample[i[0]+w2, i[1]+w2], SSD[i]\n"
      ],
      "execution_count": 0,
      "outputs": []
    },
    {
      "cell_type": "markdown",
      "metadata": {
        "id": "dL_bp42ob1AT",
        "colab_type": "text"
      },
      "source": [
        "### Synthesize texture function"
      ]
    },
    {
      "cell_type": "code",
      "metadata": {
        "id": "EOOIwV57b-eT",
        "colab_type": "code",
        "colab": {}
      },
      "source": [
        "def synth_texture(sample, window_size, out_size):\n",
        "    # normalize pixel intensity\n",
        "    sample = sample.astype(np.float64)\n",
        "    sample = sample / 255.0\n",
        "    seed_size = 3\n",
        "    [sheight, swidth, channels] = sample.shape\n",
        "    synth_img = np.zeros((*out_size, channels))\n",
        "    err_thresh_max = 0.3\n",
        "    err_thresh_max22 = 0.3\n",
        "\n",
        "    # initialization: pick a random 3x3 patch from sample and place in the middle of the synthesized image\n",
        "    rh = round(seed_size + np.random.uniform(0,1) * (sheight - 2 * seed_size))#\n",
        "    rw = round(seed_size + np.random.uniform(0,1) * (swidth - 2 * seed_size))\n",
        "    center = [round(.5 * x) for x in out_size] # center\n",
        "    synth_img[center[0]: center[0] + seed_size, center[1]: center[1] + seed_size ,:] = sample[rh: rh + seed_size , rw: rw + seed_size,:]\n",
        "\n",
        "    # bitmap indicating filled pixels, the seed patch is initially filled\n",
        "    filled = np.zeros(out_size)\n",
        "    filled[center[0]: center[0] + seed_size , center[1]: center[1] + seed_size] = 1\n",
        "    num_filled = int(np.sum(filled))\n",
        "    n_pixels = out_size[0]*out_size[1]\n",
        "\n",
        "    # TODO\n",
        "    # intialize 2D zero-mean gaussian w/ variance = (window_size / 6.4)\n",
        "    sigma = window_size/6.4\n",
        "    w_half = window_size//2\n",
        "    X, Y = np.meshgrid(np.arange(window_size), np.arange(window_size))\n",
        "    gauss_mask = (1/(2*np.pi*sigma**2)) * exp(-(((X-w_half)**2) + (Y-w_half)**2)/(2*sigma**2))\n",
        "\n",
        "    # main loop: repeat until all pixels are filled\n",
        "    next_p = n_pixels / 10\n",
        "    \n",
        "    while(num_filled < n_pixels):\n",
        "        # report progress\n",
        "        if(num_filled > next_p):\n",
        "            print(round(100 * num_filled / n_pixels), '% complete')\n",
        "            next_p += n_pixels / 10\n",
        "\n",
        "        # TODO:\n",
        "        # get list of unfilled pixels as (x, y) coordinates\n",
        "        # hint: use dilation and masking to efficiently find unfilled neighboring pixels\n",
        "        unfilled = ndimage.binary_dilation(filled) - filled\n",
        "\n",
        "        # TODO:\n",
        "        # (optional, but recommended) randomly permute and sort list of pixels decreasing number of filled neighbor pixels   \n",
        "\n",
        "        # TODO:\n",
        "        # iterate over the list of pixels\n",
        "        pixel_list = []\n",
        "        m,n = unfilled.shape\n",
        "        for i in range(m):\n",
        "          for j in range(n):\n",
        "            if(unfilled[i,j] == 1):\n",
        "              pixel_list.append((i,j))\n",
        "        \n",
        "        for x, y in pixel_list:\n",
        "          # TODO:\n",
        "          # place window with center as (x, y) and use as template\n",
        "          \n",
        "          s = out_size[0]\n",
        "          t = out_size[1]\n",
        "\n",
        "          x_high = min(x+w_half, t-1) + 1\n",
        "          x_low = max(x-w_half,0)\n",
        "          y_high = min(y+w_half, s-1) + 1\n",
        "          y_low = max(y-w_half,0)\n",
        "\n",
        "          tempo = np.zeros((window_size, window_size, channels))\n",
        "          tempo[(0- ((y - w_half)- y_low)):(window_size - ((y + w_half + 1) - y_high)),(0- ((x - w_half) - x_low)):(window_size - ((x + w_half + 1) - x_high)),:] = synth_img[y_low:y_high, x_low:x_high, :]\n",
        "          \n",
        "          # TODO\n",
        "          # find the best matching windows from sample image\n",
        "          # randomly sample one from best matches\n",
        "\n",
        "          m1, ssd1 = find_matches(tempo, sample, gauss_mask)\n",
        "          p = np.random.choice(np.arange(m1.shape[0]))\n",
        "          if ssd1[p] <= err_thresh_max:\n",
        "            err_thresh_max = err_thresh_max22                # reset it to 1.1 at the beginning of every iteration\n",
        "            filled[y,x] = 1\n",
        "            synth_img[y,x,:] = m1[p,:]\n",
        "        if not(int(np.sum(filled)) - num_filled > 0):\n",
        "          err_thresh_max = err_thresh_max * 1.1\n",
        "        num_filled = np.sum(filled).astype(int)     \n",
        "\n",
        "         # pass\n",
        "    return synth_img * 255\n"
      ],
      "execution_count": 0,
      "outputs": []
    },
    {
      "cell_type": "markdown",
      "metadata": {
        "id": "ar9WGk44b_Aw",
        "colab_type": "text"
      },
      "source": [
        "### Main function\n",
        "\n",
        "Run the texture synthesis algorithm to generate texture of new shape. "
      ]
    },
    {
      "cell_type": "code",
      "metadata": {
        "id": "cE0a6bhJcBbp",
        "colab_type": "code",
        "outputId": "ea3d61c5-4ef5-407b-821b-ca10a3fea8e0",
        "colab": {
          "base_uri": "https://localhost:8080/",
          "height": 1000
        }
      },
      "source": [
        "# Texture synthesis on rings\n",
        "source = cv2.imread('rings.jpg')\n",
        "window_sizes = [5, 7, 13] \n",
        "out_size = [100, 100]\n",
        "\n",
        "print('Source Image')\n",
        "cv2_imshow(source)\n",
        "\n",
        "for w in window_sizes:\n",
        "  target = synth_texture(source, w, out_size)\n",
        "  print('Target Image')\n",
        "  cv2_imshow(target)\n",
        "\n",
        "w = 5\n",
        "\n",
        "# Texture synthesis on colored image\n",
        "source = cv2.imread('texture.jpg')\n",
        "\n",
        "print('Source Image')\n",
        "cv2_imshow(source)\n",
        "target = synth_texture(source, w, out_size)\n",
        "print('Target Image')\n",
        "cv2_imshow(target)\n",
        "\n",
        "\n",
        "# Don't need to submit this one\n",
        "source = cv2.imread('jigsaw.jpg')\n",
        "print('Source Image')\n",
        "source = cv2.resize(source,(68,68))\n",
        "cv2_imshow(source)\n",
        "target = synth_texture(source, w, out_size)\n",
        "print('Target Image')\n",
        "cv2_imshow(target) \n"
      ],
      "execution_count": 17,
      "outputs": [
        {
          "output_type": "stream",
          "text": [
            "Source Image\n"
          ],
          "name": "stdout"
        },
        {
          "output_type": "display_data",
          "data": {
            "image/png": "[encoded data removed]",
            "text/plain": [
              "<PIL.Image.Image image mode=RGB size=34x34 at 0x7FC2030DA160>"
            ]
          },
          "metadata": {
            "tags": []
          }
        },
        {
          "output_type": "stream",
          "text": [
            "10.0 % complete\n",
            "21.0 % complete\n",
            "31.0 % complete\n",
            "41.0 % complete\n",
            "51.0 % complete\n",
            "60.0 % complete\n",
            "70.0 % complete\n",
            "80.0 % complete\n",
            "91.0 % complete\n",
            "Target Image\n"
          ],
          "name": "stdout"
        },
        {
          "output_type": "display_data",
          "data": {
            "image/png": "[encoded data removed]",
            "text/plain": [
              "<PIL.Image.Image image mode=RGB size=100x100 at 0x7FC2030DAA90>"
            ]
          },
          "metadata": {
            "tags": []
          }
        },
        {
          "output_type": "stream",
          "text": [
            "10.0 % complete\n",
            "21.0 % complete\n",
            "31.0 % complete\n",
            "41.0 % complete\n",
            "51.0 % complete\n",
            "60.0 % complete\n",
            "70.0 % complete\n",
            "80.0 % complete\n",
            "91.0 % complete\n",
            "Target Image\n"
          ],
          "name": "stdout"
        },
        {
          "output_type": "display_data",
          "data": {
            "image/png": "[encoded data removed]",
            "text/plain": [
              "<PIL.Image.Image image mode=RGB size=100x100 at 0x7FC2030DAD68>"
            ]
          },
          "metadata": {
            "tags": []
          }
        },
        {
          "output_type": "stream",
          "text": [
            "10.0 % complete\n",
            "21.0 % complete\n",
            "31.0 % complete\n",
            "41.0 % complete\n",
            "51.0 % complete\n",
            "60.0 % complete\n",
            "70.0 % complete\n",
            "80.0 % complete\n",
            "91.0 % complete\n",
            "Target Image\n"
          ],
          "name": "stdout"
        },
        {
          "output_type": "display_data",
          "data": {
            "image/png": "[encoded data removed]",
            "text/plain": [
              "<PIL.Image.Image image mode=RGB size=100x100 at 0x7FC2030DAD68>"
            ]
          },
          "metadata": {
            "tags": []
          }
        },
        {
          "output_type": "stream",
          "text": [
            "Source Image\n"
          ],
          "name": "stdout"
        },
        {
          "output_type": "display_data",
          "data": {
            "image/png": "[encoded data removed]",
            "text/plain": [
              "<PIL.Image.Image image mode=RGB size=68x68 at 0x7FC2030DA160>"
            ]
          },
          "metadata": {
            "tags": []
          }
        },
        {
          "output_type": "stream",
          "text": [
            "10.0 % complete\n",
            "21.0 % complete\n",
            "31.0 % complete\n",
            "41.0 % complete\n",
            "51.0 % complete\n",
            "60.0 % complete\n",
            "70.0 % complete\n",
            "80.0 % complete\n",
            "91.0 % complete\n",
            "Target Image\n"
          ],
          "name": "stdout"
        },
        {
          "output_type": "display_data",
          "data": {
            "image/png": "[encoded data removed]",
            "text/plain": [
              "<PIL.Image.Image image mode=RGB size=100x100 at 0x7FC20271ABA8>"
            ]
          },
          "metadata": {
            "tags": []
          }
        },
        {
          "output_type": "stream",
          "text": [
            "Source Image\n"
          ],
          "name": "stdout"
        },
        {
          "output_type": "display_data",
          "data": {
            "image/png": "[encoded data removed]",
            "text/plain": [
              "<PIL.Image.Image image mode=RGB size=68x68 at 0x7FC2030DA160>"
            ]
          },
          "metadata": {
            "tags": []
          }
        },
        {
          "output_type": "stream",
          "text": [
            "10.0 % complete\n",
            "21.0 % complete\n",
            "31.0 % complete\n",
            "41.0 % complete\n",
            "51.0 % complete\n",
            "60.0 % complete\n",
            "70.0 % complete\n",
            "80.0 % complete\n",
            "91.0 % complete\n",
            "Target Image\n"
          ],
          "name": "stdout"
        },
        {
          "output_type": "display_data",
          "data": {
            "image/png": "[encoded data removed]",
            "text/plain": [
              "<PIL.Image.Image image mode=RGB size=100x100 at 0x7FC2030DAD30>"
            ]
          },
          "metadata": {
            "tags": []
          }
        }
      ]
    },
    {
      "cell_type": "markdown",
      "metadata": {
        "id": "6MCMYyJdth1k",
        "colab_type": "text"
      },
      "source": [
        "For a given window size, if you re-run the algorithm with the same starting seed do you get the same result? Why or why not? Is this true for all window sizes?\n",
        "Answer: If the algorithm is re-run with the same starting seed, the output obtained is not same every time. This is because, a random pixel is chosen from the SSD every time the code is executed.\n",
        "If we increase the window size, the output of texture synthesis is better"
      ]
    }
  ]
}